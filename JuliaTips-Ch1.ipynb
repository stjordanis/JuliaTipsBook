{
 "cells": [
  {
   "cell_type": "markdown",
   "metadata": {},
   "source": [
    "# Introduction\n",
    "\n",
    "This book contains various tips for the Julia programming language.  The purpose is to introduce common techniques to new Julia users so they can learn the language quickly without having to resort to help in Slack or Discourse sites.  \n",
    "\n",
    "The scope of this book is very broad, and it is largely dependent on my own programming experience and the type of use cases that I am exposed to.  The subjects may range from general programming technique, parallel programming, statistical computing, GPU computing, etc etc.  I also cannot claim that every idea originates from me because it's more likely that I have learned such technique from others."
   ]
  },
  {
   "cell_type": "markdown",
   "metadata": {},
   "source": [
    "## Audience\n",
    "\n",
    "The audience may be:\n",
    "\n",
    "1. Users just started learning the Julia language\n",
    "2. Experience users hoping to find new tips to add to their own toolbox\n",
    "3. People curious about the Julia langage but haven't otherwise started trying it out"
   ]
  },
  {
   "cell_type": "markdown",
   "metadata": {},
   "source": [
    "## Credits\n",
    "\n",
    "This book is devoted to the Julia community.  I learned a lot from the experts/veterans that participate in either the JuliaLang Slack or the Discourse forum site.  These people are the kindest ones that I have ever seen in other programming communities.  \n",
    "\n",
    "I would like to thank my wife, May, for keeping me relatively free of house chores so I can focus on writing this book.  Likewise, I thank my kids for being independent and not having to trouble me about any of their school work."
   ]
  }
 ],
 "metadata": {
  "author": "Tom Kwong",
  "celltoolbar": "Edit Metadata",
  "kernelspec": {
   "display_name": "Julia 1.0.1",
   "language": "julia",
   "name": "julia-1.0"
  },
  "language_info": {
   "file_extension": ".jl",
   "mimetype": "application/julia",
   "name": "julia",
   "version": "1.0.1"
  },
  "title": "Julia Programming Tips"
 },
 "nbformat": 4,
 "nbformat_minor": 2
}
