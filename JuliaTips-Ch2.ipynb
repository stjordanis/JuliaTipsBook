{
 "cells": [
  {
   "cell_type": "markdown",
   "metadata": {
    "slideshow": {
     "slide_type": "slide"
    }
   },
   "source": [
    "# Control Flows"
   ]
  },
  {
   "cell_type": "markdown",
   "metadata": {
    "slideshow": {
     "slide_type": "slide"
    }
   },
   "source": [
    "## Early Break\n",
    "\n",
    "It's a fairly common pattern that the program breaks out of a loop when a specific condition is satisified.  "
   ]
  },
  {
   "cell_type": "code",
   "execution_count": 3,
   "metadata": {
    "slideshow": {
     "slide_type": "fragment"
    }
   },
   "outputs": [],
   "source": [
    "# Find the first value where it is greater than a threshold\n",
    "function greater_than(vec, threshold)\n",
    "    idx = 1\n",
    "    value = nothing\n",
    "    for v ∈ vec \n",
    "        if v > threshold\n",
    "            value = v\n",
    "            break\n",
    "        end\n",
    "        idx += 1\n",
    "    end\n",
    "    return value == nothing ? nothing : (idx, value)\n",
    "end;"
   ]
  },
  {
   "cell_type": "code",
   "execution_count": 5,
   "metadata": {
    "slideshow": {
     "slide_type": "fragment"
    }
   },
   "outputs": [
    {
     "name": "stdout",
     "output_type": "stream",
     "text": [
      "greater_than(rand(1000), 0.999) = (17, 0.9993878165046459)\n",
      "greater_than(rand(1000), 0.999) = (151, 0.9991774899756094)\n",
      "greater_than(rand(1000), 0.999) = nothing\n"
     ]
    }
   ],
   "source": [
    "@show greater_than(rand(1000), 0.999)\n",
    "@show greater_than(rand(1000), 0.999)\n",
    "@show greater_than(rand(1000), 0.999)\n",
    ";"
   ]
  },
  {
   "cell_type": "markdown",
   "metadata": {
    "slideshow": {
     "slide_type": "slide"
    }
   },
   "source": [
    "It is, however, more _Julian_ to use the short-circuit `&&` operator to return early.\n",
    "Doing so makes the code more concise and easier to read."
   ]
  },
  {
   "cell_type": "code",
   "execution_count": 6,
   "metadata": {
    "slideshow": {
     "slide_type": "fragment"
    }
   },
   "outputs": [],
   "source": [
    "# Find the first value where it is greater than a threshold\n",
    "function greater_than(vec, threshold)\n",
    "    idx = 1\n",
    "    for v ∈ vec \n",
    "        v > threshold && break\n",
    "        idx += 1\n",
    "    end\n",
    "    return idx > length(vec) ? nothing : vec[idx]\n",
    "end;"
   ]
  },
  {
   "cell_type": "code",
   "execution_count": 8,
   "metadata": {
    "slideshow": {
     "slide_type": "fragment"
    }
   },
   "outputs": [
    {
     "name": "stdout",
     "output_type": "stream",
     "text": [
      "greater_than(rand(1000), 0.999) = 0.9998223326994309\n",
      "greater_than(rand(1000), 0.999) = nothing\n",
      "greater_than(rand(1000), 0.999) = 0.9994499054436097\n"
     ]
    }
   ],
   "source": [
    "@show greater_than(rand(1000), 0.999)\n",
    "@show greater_than(rand(1000), 0.999)\n",
    "@show greater_than(rand(1000), 0.999)\n",
    ";"
   ]
  },
  {
   "cell_type": "markdown",
   "metadata": {
    "slideshow": {
     "slide_type": "slide"
    }
   },
   "source": [
    "## Enumerating a Collection with the Index\n",
    "\n",
    "In the above example [Early Break](early-break), we are scanning all elements of a vector and keeping tracking of an index on our own.  It actually comes for free in Julia using the `enumerate` function.  Here, we will also take advantage of an early return."
   ]
  },
  {
   "cell_type": "code",
   "execution_count": 9,
   "metadata": {
    "slideshow": {
     "slide_type": "fragment"
    }
   },
   "outputs": [],
   "source": [
    "# Find the first value where it is greater than a threshold\n",
    "function greater_than(vec, threshold)\n",
    "    for (idx, v) ∈ enumerate(vec)\n",
    "        v > threshold && return (idx, v)\n",
    "    end\n",
    "    return nothing\n",
    "end;"
   ]
  },
  {
   "cell_type": "code",
   "execution_count": 10,
   "metadata": {
    "slideshow": {
     "slide_type": "fragment"
    }
   },
   "outputs": [
    {
     "name": "stdout",
     "output_type": "stream",
     "text": [
      "greater_than(rand(1000), 0.999) = (468, 0.9994336793768159)\n",
      "greater_than(rand(1000), 0.999) = nothing\n",
      "greater_than(rand(1000), 0.999) = (971, 0.9991035932033405)\n"
     ]
    }
   ],
   "source": [
    "@show greater_than(rand(1000), 0.999)\n",
    "@show greater_than(rand(1000), 0.999)\n",
    "@show greater_than(rand(1000), 0.999)\n",
    ";"
   ]
  },
  {
   "cell_type": "markdown",
   "metadata": {
    "slideshow": {
     "slide_type": "slide"
    }
   },
   "source": [
    "## Finding the First Element with a Condition\n",
    "\n",
    "It turns out that Julia already has a function that can be used to find the first element that satisfies a condition."
   ]
  },
  {
   "cell_type": "code",
   "execution_count": 11,
   "metadata": {
    "slideshow": {
     "slide_type": "fragment"
    }
   },
   "outputs": [],
   "source": [
    "function greater_than(vec, threshold)\n",
    "    idx = findfirst(x -> x > threshold, vec)\n",
    "    return idx == nothing ? nothing : vec[idx]\n",
    "end;"
   ]
  },
  {
   "cell_type": "code",
   "execution_count": 12,
   "metadata": {
    "slideshow": {
     "slide_type": "fragment"
    }
   },
   "outputs": [
    {
     "name": "stdout",
     "output_type": "stream",
     "text": [
      "greater_than(rand(1000), 0.999) = nothing\n",
      "greater_than(rand(1000), 0.999) = 0.999040825523396\n",
      "greater_than(rand(1000), 0.999) = nothing\n"
     ]
    }
   ],
   "source": [
    "@show greater_than(rand(1000), 0.999)\n",
    "@show greater_than(rand(1000), 0.999)\n",
    "@show greater_than(rand(1000), 0.999)\n",
    ";"
   ]
  },
  {
   "cell_type": "markdown",
   "metadata": {
    "box": {
     "title": "Related Functions"
    },
    "slideshow": {
     "slide_type": "fragment"
    }
   },
   "source": [
    "The `find*` functions all take a predicate function:\n",
    "\n",
    "- `findall`: find all elements that satify a predicate condition\n",
    "- `findlast`: find the last element that satify a predicate condition"
   ]
  }
 ],
 "metadata": {
  "celltoolbar": "Edit Metadata",
  "kernelspec": {
   "display_name": "Julia 1.0.1",
   "language": "julia",
   "name": "julia-1.0"
  },
  "language_info": {
   "file_extension": ".jl",
   "mimetype": "application/julia",
   "name": "julia",
   "version": "1.0.1"
  }
 },
 "nbformat": 4,
 "nbformat_minor": 2
}
